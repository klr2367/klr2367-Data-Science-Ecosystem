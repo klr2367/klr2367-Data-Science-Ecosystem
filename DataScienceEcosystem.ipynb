{
 "cells": [
  {
   "cell_type": "code",
   "execution_count": 9,
   "id": "27d41a0c-8279-490b-8567-b9b238799e44",
   "metadata": {},
   "outputs": [],
   "source": [
    "# Excercise 2 Create markdown cell with the title Data Science Tool and Ecosystem using H1 style heading.\n"
   ]
  },
  {
   "cell_type": "code",
   "execution_count": 10,
   "id": "cb408251-1701-4152-b184-5b852b2e5cae",
   "metadata": {},
   "outputs": [],
   "source": [
    "# Data Science Tools and Ecosystem"
   ]
  },
  {
   "cell_type": "markdown",
   "id": "a8d0cae5-71a9-4843-a83d-3adb17a15947",
   "metadata": {},
   "source": [
    "# Data Science Tools and Ecosystem"
   ]
  },
  {
   "cell_type": "code",
   "execution_count": 11,
   "id": "00943a94-92b2-475c-85e5-3978ea645dae",
   "metadata": {},
   "outputs": [],
   "source": [
    "# Excercise 3 Create a markdoen cell for introduction\n",
    "# Write an introductory sentence about the notebook such as follows:\n",
    "# In this notebook, Data Science Tools and Ecosystem are summarized."
   ]
  },
  {
   "cell_type": "markdown",
   "id": "a04b7ed0-366a-42ff-ae4b-8d95b82983c4",
   "metadata": {},
   "source": [
    "### In this notebook, Data Science Tools and Ecosystem are summarized."
   ]
  },
  {
   "cell_type": "code",
   "execution_count": 12,
   "id": "06ab39f4-8b08-4b20-b78b-24ba4f186d07",
   "metadata": {},
   "outputs": [],
   "source": [
    "# 10 Insert a markdown cell to list objectives\n",
    "# Below the introduction cell created in exercise 3, insert a new markdown cell to list the objectives that this notebook covered.\n",
    "# i.e. some of the key takeaways from this course.\n",
    "# In this new cell start with an introductory line titled Objectives: in bold font. \n",
    "# Then using an unordered list, indicate 3-5 items covered in this notebook, such as list popular languages for data science."
   ]
  },
  {
   "cell_type": "markdown",
   "id": "e6a367d7-b96d-401b-a1c7-a6e7b6fc194a",
   "metadata": {},
   "source": [
    "**Objectives**\n",
    "* Create a code to multiply and add numbers\n",
    "* List Data Science tools\n",
    "* List libraries commonly used for Data Science\n",
    "* List popular languages Data Scientists like to use\n",
    "* Convert Minutes to hours\n"
   ]
  },
  {
   "cell_type": "code",
   "execution_count": 13,
   "id": "33154eba-b291-4468-b4ac-c67e94eb51ec",
   "metadata": {},
   "outputs": [],
   "source": [
    "# Excercise 4 Create a markdown cell to list data science languages.\n",
    "# Start the cell with an overview line such as:\n",
    "#            Some of the more popular languages Data Scientists use are:\n",
    "# Then create an ordered list, listing three or more commonly used languages for data science."
   ]
  },
  {
   "cell_type": "markdown",
   "id": "9f8ec421-d195-4cb5-8b72-c87e1414a950",
   "metadata": {},
   "source": [
    "Some of the popular languages that Data Scientists use are:\n",
    "\n",
    "1. Python\n",
    "2. R\n",
    "3. Julia"
   ]
  },
  {
   "cell_type": "code",
   "execution_count": 14,
   "id": "c2de1902-ca08-4e6c-bd33-f3250db73a67",
   "metadata": {},
   "outputs": [],
   "source": [
    "# Excercise 5 Create a markdown call to list data science libraries.\n",
    "# Add an overview cell line like:\n",
    "# Some of the commonly used libraries used by data scientists include:\n",
    "# below this line add an ordered list, listing three or more commonly used libraries in data science."
   ]
  },
  {
   "cell_type": "markdown",
   "id": "c6e177a3-c96f-4c50-80a8-9e5325a968f7",
   "metadata": {},
   "source": [
    "Some of the commonly used libraries, used by data scientists include:\n",
    "\n",
    "1. Pandas\n",
    "2. Plotly\n",
    "3. TensorFlow\n",
    "4. NumPy"
   ]
  },
  {
   "cell_type": "code",
   "execution_count": 15,
   "id": "9936a18f-a1e2-41af-94a2-2f9525895a55",
   "metadata": {},
   "outputs": [],
   "source": [
    "# Excercise 6 Create a markdown cell with a table of Data Science tools\n",
    "# Create a single column table in this cell with the first row containing the header:\n",
    "# Data Science Tools.\n",
    "# The subsequent three rows should indicate three development environment open source tools used in data science."
   ]
  },
  {
   "cell_type": "markdown",
   "id": "2a24df18-004e-471a-8607-d4890f3592e4",
   "metadata": {},
   "source": [
    "|Data Science Tools|\n",
    "|------|\n",
    "|Apache|\n",
    "|Kubernetes|\n",
    "|Red Hat Open Shift|\n",
    "|Mleap|\n",
    "|TensorFlow Server|"
   ]
  },
  {
   "cell_type": "code",
   "execution_count": 16,
   "id": "f03eed8c-24cd-4e2c-b965-24f7543077fa",
   "metadata": {},
   "outputs": [],
   "source": [
    "# Excercise 7 Create a markdown cell introducing arithmatic expression examples.\n",
    "# Add a line in this cell with H3 style heading with text like:\n",
    "# Below are a few examples of evaluating arithmatic expressions in Python."
   ]
  },
  {
   "cell_type": "markdown",
   "id": "b3fc1013-f912-4c8a-986f-4e9a2a1c2f89",
   "metadata": {},
   "source": [
    "### Below are a few examples of evaluating arithmatic expressions in Python:"
   ]
  },
  {
   "cell_type": "code",
   "execution_count": 17,
   "id": "f84817e2-2aad-4f06-93b7-89f789ac2fb0",
   "metadata": {},
   "outputs": [],
   "source": [
    "# Exercise 8 Create a code cell to multiply and add numbers.\n",
    "# In this code cell, evaluate the expression (3*4)+5\n",
    "# Insert a comment before the expression to explain the operation e.g. This is a simple arithmatic expression to multiply then add integers.\n",
    "# Then execute the cell to ensure the expression returns the expected output of 17"
   ]
  },
  {
   "cell_type": "code",
   "execution_count": 18,
   "id": "486ba8f8-e8de-49f6-8cf5-53262ec8a0e1",
   "metadata": {},
   "outputs": [
    {
     "data": {
      "text/plain": [
       "17"
      ]
     },
     "execution_count": 18,
     "metadata": {},
     "output_type": "execute_result"
    }
   ],
   "source": [
    "# This is a simple arithmatic expression to multiply, then add integers.\n",
    "(3*4)+5"
   ]
  },
  {
   "cell_type": "code",
   "execution_count": 19,
   "id": "ed387e07-7b25-429b-a43c-428dbabf60e7",
   "metadata": {},
   "outputs": [],
   "source": [
    "# Excercise 9 Create a code cell to convert minutes to hours.\n",
    "# In this code cell write an expression that converts 200 minutes into hours.\n",
    "# Insert a comment before the expression to explain the operation e.g. This will convert 200 minutes to hours by dividing by 60, \n",
    "# run the cell to evaluate the expression."
   ]
  },
  {
   "cell_type": "code",
   "execution_count": 20,
   "id": "ed6a3957-77a8-4c5a-bb36-a5e14ba31c6f",
   "metadata": {},
   "outputs": [
    {
     "data": {
      "text/plain": [
       "3.3333333333333335"
      ]
     },
     "execution_count": 20,
     "metadata": {},
     "output_type": "execute_result"
    }
   ],
   "source": [
    "# This operation will convert 200 minutes to hours by dividing by 60\n",
    "200/60"
   ]
  },
  {
   "cell_type": "code",
   "execution_count": 21,
   "id": "cfeb5a75-e416-495f-b507-644005332627",
   "metadata": {},
   "outputs": [],
   "source": [
    "# Excercise 11 Create a markdown cell to include to following text:\n",
    "# Author in H2 style heading\n",
    "# Include your name as regular text below the word author."
   ]
  },
  {
   "cell_type": "markdown",
   "id": "2ad2bcee-1e1c-421a-874b-ca2f1c6acd1d",
   "metadata": {},
   "source": [
    "## Author:\n",
    "Kirstie Roberts"
   ]
  }
 ],
 "metadata": {
  "kernelspec": {
   "display_name": "Python 3 (ipykernel)",
   "language": "python",
   "name": "python3"
  },
  "language_info": {
   "codemirror_mode": {
    "name": "ipython",
    "version": 3
   },
   "file_extension": ".py",
   "mimetype": "text/x-python",
   "name": "python",
   "nbconvert_exporter": "python",
   "pygments_lexer": "ipython3",
   "version": "3.12.4"
  }
 },
 "nbformat": 4,
 "nbformat_minor": 5
}
